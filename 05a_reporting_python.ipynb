{
 "cells": [
  {
   "cell_type": "markdown",
   "metadata": {},
   "source": [
    "# Créer des raport avec Python\n",
    "\n",
    "Différentes approches :\n",
    "- Pandas + Excel\n",
    "- Pandas + HTML\n",
    "- Dash\n",
    "\n",
    "Chaque option a ses avantages et ses inconvénients. Elles demandent toutes un peu d'expérience en python mais permettent une automatisation très forte.\n",
    "\n",
    "\n",
    "    "
   ]
  },
  {
   "cell_type": "markdown",
   "metadata": {},
   "source": [
    "# Premier exemple : Pandas et Excel\n",
    "\n"
   ]
  },
  {
   "cell_type": "code",
   "execution_count": 17,
   "metadata": {},
   "outputs": [],
   "source": [
    "import pandas as pd\n",
    "import numpy as np\n",
    "\n",
    "# on utilise notre dataframe\n",
    "df = pd.read_sas(\"./data/bce_uai.sas7bdat\", encoding='latin1')\n",
    "df = pd.crosstab(df[\"DATE_OUVERTURE\"].dt.month,df[\"SECTEUR_PUBLIC_PRIVE\"], normalize = \"columns\", )\n",
    "\n",
    "# On passe dans un classeur Excel\n",
    "writer = pd.ExcelWriter('myreport.xlsx', engine='xlsxwriter')\n",
    "df.to_excel(writer, sheet_name='Sheet1', startrow=2)\n",
    "\n",
    "# On récupère les objets\n",
    "book = writer.book\n",
    "sheet = writer.sheets['Sheet1']\n",
    "\n",
    "# Titre\n",
    "bold = book.add_format({'bold': True, 'size': 24})\n",
    "sheet.write('A1', 'Mon Rapport', bold)\n",
    "\n",
    "# Color negative values in the DataFrame in red\n",
    "format1 = book.add_format({'font_color': '#E93423'})\n",
    "sheet.conditional_format('B4:C15', {'type': 'cell', 'criteria': '<=', 'value': 0.1, 'format': format1})\n",
    "\n",
    "# Chart\n",
    "chart = book.add_chart({'type': 'column'})\n",
    "chart.add_series({'values': '=Sheet1!B4:B15', 'name': '=Sheet1!B3', 'categories': '=Sheet1!$A$4:$A$15'})\n",
    "chart.add_series({'values': '=Sheet1!C4:C15', 'name': '=Sheet1!C3'})\n",
    "sheet.insert_chart('A17', chart)\n",
    "\n",
    "writer.save()"
   ]
  },
  {
   "cell_type": "code",
   "execution_count": 14,
   "metadata": {},
   "outputs": [
    {
     "data": {
      "text/plain": [
       "<matplotlib.axes._subplots.AxesSubplot at 0x1981d881288>"
      ]
     },
     "execution_count": 14,
     "metadata": {},
     "output_type": "execute_result"
    },
    {
     "data": {
      "image/png": "[encoded data removed]",
      "text/plain": [
       "<Figure size 432x288 with 1 Axes>"
      ]
     },
     "metadata": {
      "needs_background": "light"
     },
     "output_type": "display_data"
    }
   ],
   "source": [
    "pd.crosstab(df[\"DATE_OUVERTURE\"].dt.month,df[\"SECTEUR_PUBLIC_PRIVE\"], normalize = \"columns\", ).plot.bar()"
   ]
  },
  {
   "cell_type": "markdown",
   "metadata": {},
   "source": [
    "# Second exemple : Pandas et HTML\n",
    "\n",
    "On crée un fichier template.html\n",
    "\n",
    "On utilise pandas et jinja2"
   ]
  },
  {
   "cell_type": "raw",
   "metadata": {},
   "source": [
    "<html>\n",
    "<head>\n",
    "    <style>\n",
    "        * {\n",
    "            font-family: sans-serif;\n",
    "        }\n",
    "        body {\n",
    "            padding: 20px;\n",
    "        }\n",
    "        table {\n",
    "            border-collapse: collapse;\n",
    "            text-align: right;\n",
    "        }\n",
    "        table tr {\n",
    "            border-bottom: 1px solid\n",
    "        }\n",
    "        table th, table td {\n",
    "            padding: 10px 20px;\n",
    "        }\n",
    "    </style>\n",
    "</head>\n",
    "<body>\n",
    "\n",
    "<h1>Rapport xxx</h1>\n",
    "\n",
    "{{ my_table }}\n",
    "\n",
    "<img src='plot.svg' width=\"600\">\n",
    "\n",
    "</body>\n",
    "</html>"
   ]
  },
  {
   "cell_type": "code",
   "execution_count": 33,
   "metadata": {},
   "outputs": [
    {
     "data": {
      "image/png": "[encoded data removed]",
      "text/plain": [
       "<Figure size 432x288 with 1 Axes>"
      ]
     },
     "metadata": {
      "needs_background": "light"
     },
     "output_type": "display_data"
    }
   ],
   "source": [
    "import pandas as pd\n",
    "import numpy as np\n",
    "import jinja2\n",
    "\n",
    "# On récupère les données\n",
    "df = pd.read_sas(\"./data/bce_uai.sas7bdat\", encoding='latin1')\n",
    "df = pd.crosstab(df[\"DATE_OUVERTURE\"].dt.month,df[\"SECTEUR_PUBLIC_PRIVE\"], normalize = \"columns\", )\n",
    "\n",
    "\n",
    "def color_lessthan_red(val):\n",
    "    color = 'red' if val < 0.1 else 'black'\n",
    "    return f'color: {color}'\n",
    "\n",
    "styler = df.style.applymap(color_negative_red)\n",
    "\n",
    "# gestion du template\n",
    "env = jinja2.Environment(loader=jinja2.FileSystemLoader(searchpath=''))\n",
    "template = env.get_template('template.html')\n",
    "html = template.render(my_table=styler.render())\n",
    "# graphique\n",
    "ax = df.plot.bar()\n",
    "fig = ax.get_figure()\n",
    "fig.savefig('plot.svg')\n",
    "\n",
    "# ecriture du ficher html\n",
    "with open('rapport_html.html', 'w') as f:\n",
    "    f.write(html)"
   ]
  },
  {
   "cell_type": "markdown",
   "metadata": {},
   "source": [
    "# Troisième exemple Dash\n",
    "\n"
   ]
  },
  {
   "cell_type": "code",
   "execution_count": 58,
   "metadata": {},
   "outputs": [
    {
     "name": "stdout",
     "output_type": "stream",
     "text": [
      " * Serving Flask app \"__main__\" (lazy loading)\n",
      " * Environment: production\n",
      "   WARNING: This is a development server. Do not use it in a production deployment.\n",
      "   Use a production WSGI server instead.\n",
      " * Debug mode: off\n"
     ]
    },
    {
     "name": "stderr",
     "output_type": "stream",
     "text": [
      " * Running on http://127.0.0.1:8050/ (Press CTRL+C to quit)\n",
      "127.0.0.1 - - [08/Feb/2021 18:48:49] \"\u001b[37mGET / HTTP/1.1\u001b[0m\" 200 -\n",
      "127.0.0.1 - - [08/Feb/2021 18:48:50] \"\u001b[37mGET /_dash-layout HTTP/1.1\u001b[0m\" 200 -\n",
      "127.0.0.1 - - [08/Feb/2021 18:48:50] \"\u001b[37mGET /_dash-dependencies HTTP/1.1\u001b[0m\" 200 -\n",
      "127.0.0.1 - - [08/Feb/2021 18:48:50] \"\u001b[37mPOST /_dash-update-component HTTP/1.1\u001b[0m\" 200 -\n",
      "127.0.0.1 - - [08/Feb/2021 18:49:14] \"\u001b[37mPOST /_dash-update-component HTTP/1.1\u001b[0m\" 200 -\n",
      "127.0.0.1 - - [08/Feb/2021 18:49:16] \"\u001b[37mPOST /_dash-update-component HTTP/1.1\u001b[0m\" 200 -\n",
      "127.0.0.1 - - [08/Feb/2021 18:49:17] \"\u001b[37mPOST /_dash-update-component HTTP/1.1\u001b[0m\" 200 -\n",
      "127.0.0.1 - - [08/Feb/2021 18:49:18] \"\u001b[37mPOST /_dash-update-component HTTP/1.1\u001b[0m\" 200 -\n",
      "127.0.0.1 - - [08/Feb/2021 18:49:19] \"\u001b[37mPOST /_dash-update-component HTTP/1.1\u001b[0m\" 200 -\n",
      "127.0.0.1 - - [08/Feb/2021 18:49:24] \"\u001b[37mPOST /_dash-update-component HTTP/1.1\u001b[0m\" 200 -\n",
      "127.0.0.1 - - [08/Feb/2021 18:49:30] \"\u001b[37mPOST /_dash-update-component HTTP/1.1\u001b[0m\" 200 -\n",
      "127.0.0.1 - - [08/Feb/2021 18:49:32] \"\u001b[37mPOST /_dash-update-component HTTP/1.1\u001b[0m\" 200 -\n",
      "127.0.0.1 - - [08/Feb/2021 18:49:50] \"\u001b[37mPOST /_dash-update-component HTTP/1.1\u001b[0m\" 200 -\n",
      "127.0.0.1 - - [08/Feb/2021 18:49:56] \"\u001b[37mPOST /_dash-update-component HTTP/1.1\u001b[0m\" 200 -\n",
      "127.0.0.1 - - [08/Feb/2021 18:50:13] \"\u001b[37mPOST /_dash-update-component HTTP/1.1\u001b[0m\" 200 -\n",
      "127.0.0.1 - - [08/Feb/2021 18:50:25] \"\u001b[37mPOST /_dash-update-component HTTP/1.1\u001b[0m\" 200 -\n",
      "127.0.0.1 - - [08/Feb/2021 18:50:28] \"\u001b[37mPOST /_dash-update-component HTTP/1.1\u001b[0m\" 200 -\n",
      "127.0.0.1 - - [08/Feb/2021 18:50:30] \"\u001b[37mPOST /_dash-update-component HTTP/1.1\u001b[0m\" 200 -\n",
      "127.0.0.1 - - [08/Feb/2021 18:50:35] \"\u001b[37mPOST /_dash-update-component HTTP/1.1\u001b[0m\" 200 -\n",
      "127.0.0.1 - - [08/Feb/2021 18:50:40] \"\u001b[37mPOST /_dash-update-component HTTP/1.1\u001b[0m\" 200 -\n"
     ]
    }
   ],
   "source": [
    "import pandas as pd\n",
    "import dash\n",
    "import dash_core_components as dcc\n",
    "import dash_html_components as html\n",
    "from dash.dependencies import Input, Output\n",
    "\n",
    "# Sample DataFrame\n",
    "# On récupère les données\n",
    "df2 = pd.read_csv(\"effectifs-premier-degre.csv\")\n",
    "df2.Annee_scolaire = pd.to_numeric(df2.Annee_scolaire.str[:4])\n",
    "df3 = df2.groupby([\"Annee_scolaire\",\"Libellé département\"], as_index=False).agg({\"Nombre_d_eleves\":\"sum\", \"Type d'établissement\" : \"count\", \"Academie\":\"first\"})\n",
    "\n",
    "# Dash app - The CSS code is pulled in from an external file\n",
    "app = dash.Dash(__name__, external_stylesheets=['https://codepen.io/chriddyp/pen/bWLwgP.css'])\n",
    "\n",
    "# This defines the HTML layout\n",
    "app.layout = html.Div([\n",
    "    html.H1('My Report'),\n",
    "    dcc.Graph(id='graph-with-slider'),\n",
    "    dcc.Slider(\n",
    "        id='year-slider',\n",
    "        min=df3['Annee_scolaire'].min(),\n",
    "        max=df3['Annee_scolaire'].max(),\n",
    "        value=df3['Annee_scolaire'].min(),\n",
    "        marks={str(year): str(year) for year in df3['Annee_scolaire'].unique()},\n",
    "        step=None\n",
    "    )\n",
    "])\n",
    "\n",
    "# This code runs every time the slider below the chart is changed\n",
    "@app.callback(Output('graph-with-slider', 'figure'), [Input('year-slider', 'value')])\n",
    "def update_figure(selected_year):\n",
    "    filtered_df = df3[df3.Annee_scolaire == selected_year]\n",
    "    traces = []\n",
    "    for i in filtered_df.Academie.unique():\n",
    "        df_by_continent = filtered_df[filtered_df['Academie'] == i]\n",
    "        traces.append(dict(\n",
    "            x=df_by_continent['Nombre_d_eleves'],\n",
    "            y=df_by_continent[\"Type d'établissement\"],\n",
    "            text=df_by_continent['Libellé département'],\n",
    "            mode='markers',\n",
    "            opacity=0.7,\n",
    "            marker={'size': 15, 'line': {'width': 0.5, 'color': 'white'}},\n",
    "            name=i\n",
    "        ))\n",
    "\n",
    "    return {\n",
    "        'data': traces,\n",
    "        'layout': dict(\n",
    "            xaxis={'title': \"Nombre d'élèves\", 'range': [0, df3[\"Nombre_d_eleves\"].max()]},\n",
    "            yaxis={'title': \"Nombre d'établissements\", 'range': [0, df3[\"Type d'établissement\"].max()]},\n",
    "            margin={'l': 40, 'b': 40, 't': 10, 'r': 10},\n",
    "            legend={'x': 0, 'y': 1},\n",
    "            hovermode='closest',\n",
    "            transition={'duration': 500},\n",
    "        )\n",
    "    }\n",
    "\n",
    "if __name__ == '__main__':\n",
    "    app.run_server(debug=False)"
   ]
  }
 ],
 "metadata": {
  "kernelspec": {
   "display_name": "Python 3 (ipykernel)",
   "language": "python",
   "name": "python3"
  },
  "language_info": {
   "codemirror_mode": {
    "name": "ipython",
    "version": 3
   },
   "file_extension": ".py",
   "mimetype": "text/x-python",
   "name": "python",
   "nbconvert_exporter": "python",
   "pygments_lexer": "ipython3",
   "version": "3.7.6"
  }
 },
 "nbformat": 4,
 "nbformat_minor": 4
}
