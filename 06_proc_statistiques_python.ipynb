{
 "cells": [
  {
   "cell_type": "markdown",
   "id": "396f0de3",
   "metadata": {},
   "source": [
    "# Quelques méthodes statistiques avancées avec Python vs SAS\n",
    "\n",
    "\n",
    "- Une méthode dans une proc SAS --> une fonction dans un package python\n",
    "- Une fonction dans un package python -|-> une méthode dans une proc SAS\n",
    "\n",
    "La première phrase est quasiment toujours vraie\n",
    "La seconde phrase n'est quasiment jamais vraie"
   ]
  },
  {
   "cell_type": "markdown",
   "id": "0195a9f2",
   "metadata": {},
   "source": [
    "- Python se concentre sur des méthodes de machine learning et de deep learning\n",
    "- En python, les sorties sont toujours très légères, on se concentre sur l'efficacité du code plus que sur l'explication et les tabkeaux de résultats"
   ]
  },
  {
   "cell_type": "markdown",
   "id": "4a9b2158",
   "metadata": {},
   "source": [
    "## Premier exemple : la procédure logistic de SAS\n",
    "\n",
    "Cette procédure permet d'appliquer une régression logistique sur des données, il existe dans approches en python pour appliquer cette méthode.\n",
    "\n",
    "### Approche avec scikit-learn\n",
    "\n",
    "On utilise le package scikit-learn"
   ]
  },
  {
   "cell_type": "code",
   "execution_count": 7,
   "id": "bbe8119b",
   "metadata": {},
   "outputs": [],
   "source": [
    "from sklearn.linear_model import LogisticRegression\n",
    "from sklearn.model_selection import train_test_split"
   ]
  },
  {
   "cell_type": "code",
   "execution_count": null,
   "id": "91f79b81",
   "metadata": {},
   "outputs": [],
   "source": []
  },
  {
   "cell_type": "markdown",
   "id": "e87a1c45",
   "metadata": {},
   "source": [
    "### Approche avec statsmodels\n",
    "\n",
    "On utilise le package statsmodels pour avoir des réusultats plus détaillés."
   ]
  },
  {
   "cell_type": "code",
   "execution_count": 1,
   "id": "ceceeaba",
   "metadata": {},
   "outputs": [],
   "source": [
    "from statsmodels.api import Logit"
   ]
  },
  {
   "cell_type": "code",
   "execution_count": null,
   "id": "22a93120",
   "metadata": {},
   "outputs": [],
   "source": []
  },
  {
   "cell_type": "code",
   "execution_count": null,
   "id": "7bd2a04a",
   "metadata": {},
   "outputs": [],
   "source": []
  },
  {
   "cell_type": "markdown",
   "id": "b6f22e4b",
   "metadata": {},
   "source": [
    "## Second exemple : la procédure reg de SAS\n",
    "\n",
    "Il s'agit d'une régression linéaires, nous allons utiliser les deux mêmes approches que pour la régression logistique\n",
    "\n",
    "### Approche avec scikit-learn"
   ]
  },
  {
   "cell_type": "code",
   "execution_count": 6,
   "id": "2b35d5a5",
   "metadata": {},
   "outputs": [],
   "source": [
    "from sklearn.linear_model import LinearRegression"
   ]
  },
  {
   "cell_type": "markdown",
   "id": "5dc8315e",
   "metadata": {},
   "source": [
    "**Exercice :** A vous de construire et d'ajuster ce modèle"
   ]
  },
  {
   "cell_type": "code",
   "execution_count": null,
   "id": "a747342f",
   "metadata": {},
   "outputs": [],
   "source": []
  },
  {
   "cell_type": "markdown",
   "id": "bfea41ec",
   "metadata": {},
   "source": [
    "### Approche statsmodels"
   ]
  },
  {
   "cell_type": "code",
   "execution_count": 2,
   "id": "4fca2c54",
   "metadata": {},
   "outputs": [],
   "source": [
    "from statsmodels.api import OLS, add_constant"
   ]
  },
  {
   "cell_type": "markdown",
   "id": "01001f9f",
   "metadata": {},
   "source": [
    "**Exercice :** A vous de construire et d'ajuster le modèle\n",
    "\n",
    "Attention, on doit ajouter une constante manuellement."
   ]
  },
  {
   "cell_type": "code",
   "execution_count": null,
   "id": "c5954dbb",
   "metadata": {},
   "outputs": [],
   "source": []
  },
  {
   "cell_type": "markdown",
   "id": "986e94bd",
   "metadata": {},
   "source": [
    "## Aller plus loin\n",
    "\n",
    "Les deux packages utilisés comporte des centaines de méthodes vous permettant de tester des modèles sur vos données en utilisant la même approche.\n",
    "\n",
    "La force de python est ici les capacités d'automatisation et d'ajustement de modèles."
   ]
  },
  {
   "cell_type": "code",
   "execution_count": 3,
   "id": "5c01df15",
   "metadata": {},
   "outputs": [],
   "source": [
    "from sklearn.ensemble import RandomForestClassifier"
   ]
  },
  {
   "cell_type": "code",
   "execution_count": null,
   "id": "c101b763",
   "metadata": {},
   "outputs": [],
   "source": []
  }
 ],
 "metadata": {
  "kernelspec": {
   "display_name": "Python 3 (ipykernel)",
   "language": "python",
   "name": "python3"
  },
  "language_info": {
   "codemirror_mode": {
    "name": "ipython",
    "version": 3
   },
   "file_extension": ".py",
   "mimetype": "text/x-python",
   "name": "python",
   "nbconvert_exporter": "python",
   "pygments_lexer": "ipython3",
   "version": "3.7.6"
  }
 },
 "nbformat": 4,
 "nbformat_minor": 5
}
